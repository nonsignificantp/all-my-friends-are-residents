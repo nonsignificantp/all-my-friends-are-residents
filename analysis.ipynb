{
 "cells": [
  {
   "cell_type": "code",
   "execution_count": 1,
   "metadata": {},
   "outputs": [],
   "source": [
    "import re\n",
    "import pandas as pd\n",
    "from datetime import datetime"
   ]
  },
  {
   "cell_type": "code",
   "execution_count": 2,
   "metadata": {},
   "outputs": [],
   "source": [
    "import seaborn as sns\n",
    "import matplotlib.pyplot as plt"
   ]
  },
  {
   "cell_type": "code",
   "execution_count": 3,
   "metadata": {},
   "outputs": [],
   "source": [
    "from whatsparser import WhatsParser"
   ]
  },
  {
   "cell_type": "markdown",
   "metadata": {},
   "source": [
    "# The effect of residency programs on hanging out with friends"
   ]
  },
  {
   "cell_type": "markdown",
   "metadata": {},
   "source": [
    "Starting a residency program is one of the most important moment in the life of a medicine student. A stage classically characterized by rising responsibilities and a sharp decreased in finding time to hang out with friends (even in their birthdays). While the effects on starting a residency program on personal life are well known, only anecdotal evidence can be found around the literature. We aim to identify and measure the negative impact that starting a residency program has on finding time to hang out with friends."
   ]
  },
  {
   "cell_type": "markdown",
   "metadata": {},
   "source": [
    "## Importing data form WhatsApp"
   ]
  },
  {
   "cell_type": "markdown",
   "metadata": {},
   "source": [
    "We parsed all messages from one whatsapp group made up of 5 college graduates (medicine school), 3 of them just started a residency program during june 2018."
   ]
  },
  {
   "cell_type": "code",
   "execution_count": 4,
   "metadata": {},
   "outputs": [],
   "source": [
    "data = WhatsParser('./assets/data.txt').to_dataframe() # for privacy reasons this file will not be uploaded"
   ]
  },
  {
   "cell_type": "markdown",
   "metadata": {},
   "source": [
    "## Searching for keywords inside messages"
   ]
  },
  {
   "cell_type": "markdown",
   "metadata": {},
   "source": [
    "All keywords defined are related in one way or another to messages asking to hang out."
   ]
  },
  {
   "cell_type": "code",
   "execution_count": 5,
   "metadata": {},
   "outputs": [],
   "source": [
    "# kw removed: r'\\b(?:a*(?:j|a)+j?){3,}\\b'\n",
    "targets = [r'\\bbirras?\\b', r'\\bcervezas?\\b',r'\\brustico\\b', r'\\bsalir\\b', r'\\btomar\\b', r'\\bartesanal(es)?\\b', \n",
    "          r'\\basado\\b', r'\\balcohol\\b', r'\\bjoda\\b', r'\\bpatagonia\\b', r'\\bheineken\\b', r'\\bgrolsch\\b', \n",
    "          r'\\bimperial\\b', r'\\bvino\\b', r'\\bpintas?\\b', r'\\bhappy(\\shour)?\\b', r'\\bjerome\\b', r'\\bbirritas?\\b',\n",
    "          r'\\btradicion\\b', r'\\bbar(c?s?ito)?\\b']\n",
    "\n",
    "substitutions = {'á':'a', 'é':'e', 'í':'i', 'ó':'o', 'ú':'u'}"
   ]
  },
  {
   "cell_type": "code",
   "execution_count": 6,
   "metadata": {},
   "outputs": [],
   "source": [
    "def clean_chat(conversation):\n",
    "    '''Removes accent marks from letters'''\n",
    "    conversation = conversation.lower()\n",
    "    for char in substitutions:\n",
    "        conversation = re.sub(char, substitutions[char], conversation)\n",
    "    return conversation\n",
    "\n",
    "def flag_targets(conversation):\n",
    "    '''Flags messanges containing any of the specified keywords'''\n",
    "    for target in targets:\n",
    "        if re.compile(target).search(clean_chat(conversation)):\n",
    "            return 1\n",
    "    if '🍺' in conversation or '🍻' in conversation:\n",
    "        return 1\n",
    "    return 0"
   ]
  },
  {
   "cell_type": "markdown",
   "metadata": {},
   "source": [
    "Flag those messages containing one of the keywords."
   ]
  },
  {
   "cell_type": "code",
   "execution_count": 7,
   "metadata": {},
   "outputs": [],
   "source": [
    "data['flag'] = data['content'].apply(lambda x: flag_targets(x))"
   ]
  },
  {
   "cell_type": "markdown",
   "metadata": {},
   "source": [
    "## Put together a time-serie"
   ]
  },
  {
   "cell_type": "markdown",
   "metadata": {},
   "source": [
    "Aggregate data into monthly slots. Add total number of keyword mentions messages in each slot."
   ]
  },
  {
   "cell_type": "code",
   "execution_count": 8,
   "metadata": {},
   "outputs": [],
   "source": [
    "data = data.groupby([pd.Grouper(key='datetime',freq='M')]).agg({'flag':['sum','size']}).reset_index()"
   ]
  },
  {
   "cell_type": "code",
   "execution_count": 9,
   "metadata": {},
   "outputs": [],
   "source": [
    "data.columns = data.columns.droplevel()\n",
    "data = data.rename(columns={'':'datetime','sum':'mentions', 'size':'messages'})"
   ]
  },
  {
   "cell_type": "code",
   "execution_count": 10,
   "metadata": {},
   "outputs": [],
   "source": [
    "data = data.assign(time = [i+1 for i in range(len(data))])"
   ]
  },
  {
   "cell_type": "markdown",
   "metadata": {},
   "source": [
    "Define the breaking point. In Argentina, residency programs start on june of each year."
   ]
  },
  {
   "cell_type": "code",
   "execution_count": 11,
   "metadata": {},
   "outputs": [],
   "source": [
    "data['exposure'] = data['datetime'].apply(lambda x: 0 if x < datetime(2018, 6, 1) else 1)"
   ]
  },
  {
   "cell_type": "markdown",
   "metadata": {},
   "source": [
    "Calculate the mention-to-messages ratio "
   ]
  },
  {
   "cell_type": "code",
   "execution_count": 12,
   "metadata": {},
   "outputs": [],
   "source": [
    "data = data.assign(ratio = lambda df: df['mentions'] / df['messages'])"
   ]
  },
  {
   "cell_type": "markdown",
   "metadata": {},
   "source": [
    "## Plot it"
   ]
  },
  {
   "cell_type": "code",
   "execution_count": 14,
   "metadata": {},
   "outputs": [
    {
     "data": {
      "image/png": "[encoded data removed]",
      "text/plain": [
       "<Figure size 414.125x360 with 1 Axes>"
      ]
     },
     "metadata": {
      "needs_background": "light"
     },
     "output_type": "display_data"
    }
   ],
   "source": [
    "import warnings\n",
    "warnings.filterwarnings('ignore')\n",
    "\n",
    "sns.lmplot(x=\"time\", y=\"ratio\", hue='exposure', data=data,\n",
    "           markers=[\"o\", \"x\"], palette=\"Set1\",\n",
    "           truncate=True, robust=False)\n",
    "\n",
    "# plt.ylim(0, 100)\n",
    "plt.show()"
   ]
  },
  {
   "cell_type": "code",
   "execution_count": 15,
   "metadata": {},
   "outputs": [],
   "source": [
    "data.to_csv('./assets/data.csv', index = False)"
   ]
  },
  {
   "cell_type": "code",
   "execution_count": null,
   "metadata": {},
   "outputs": [],
   "source": []
  }
 ],
 "metadata": {
  "kernelspec": {
   "display_name": "Python 3",
   "language": "python",
   "name": "python3"
  },
  "language_info": {
   "codemirror_mode": {
    "name": "ipython",
    "version": 3
   },
   "file_extension": ".py",
   "mimetype": "text/x-python",
   "name": "python",
   "nbconvert_exporter": "python",
   "pygments_lexer": "ipython3",
   "version": "3.6.6"
  }
 },
 "nbformat": 4,
 "nbformat_minor": 2
}
